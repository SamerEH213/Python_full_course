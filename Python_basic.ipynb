{
 "cells": [
  {
   "cell_type": "markdown",
   "id": "587d6235",
   "metadata": {},
   "source": [
    "- About this Notebook: This notebook was designed to provide the building blocks for python programming and data collection for those choosing a career in data science ,data engineering , AI or Application Development .\n",
    "\n",
    "- When you run the file \"firstfile.py\" , the (.py) indicates that the file is a python program. Your editor then runs the file through the python interperter , which reads through the program and determines what each word in the program means .\n",
    "\n",
    "- sooo , What is the interperter methode of translation?? Check sentence by sentence(Sequentail steps) ."
   ]
  },
  {
   "cell_type": "markdown",
   "id": "7cdf99c1",
   "metadata": {},
   "source": [
    "# -  Variables..."
   ]
  },
  {
   "cell_type": "markdown",
   "id": "7c6a28c2",
   "metadata": {},
   "source": [
    "- When creating a variable, you must follow some rules when naming it ..\n",
    "\n",
    "1) Variable names can contain only letters, numbers , and underscores.\n",
    "\n",
    "2) They can start with letter or an underscore, but not with a number.\n",
    "\n",
    "3) spaces are not allowed in variable names.\n",
    "\n",
    "4) Avoid using python keywords and function names as variable names.\n",
    " \n",
    "5) Variable names should be short but descriptive."
   ]
  },
  {
   "cell_type": "markdown",
   "id": "8587fe4e",
   "metadata": {},
   "source": [
    "# - Types in python..."
   ]
  },
  {
   "cell_type": "markdown",
   "id": "211c6e6b",
   "metadata": {},
   "source": [
    "1) integer ---> An integer is a whole number (not a fractional number) that can be positive, negative, or zero. Examples of integers are: -5, 1, 5, 8, 97.\n",
    "\n",
    "2) float --> A float is a floating-point number, which means it is a number that has a decimal place. Examples of floats are : 6.8 ,9.7 , -6.8 , -4.1 .\n",
    "\n",
    "3) Character --> A character is a display unit of information equivalent to one alphabetic letter or symbol.Examples of Character : 'i' , 'u' ,'2' ,'(' ,'5' , '#' .\n",
    "\n",
    "4) String---> A string is a sequence of characters and can contain letters, numbers, symbols and even spaces. Examples of String: 'Samer', 'osama' ,'python' .\n",
    "\n",
    "5) complex --> consist of two separate parts: a real part and an imaginary part. Examples of complex : 2+5j .\n",
    "\n",
    "6) Boolean --> True , False."
   ]
  },
  {
   "cell_type": "markdown",
   "id": "d1294ad8",
   "metadata": {},
   "source": [
    "# - Apply in python..."
   ]
  },
  {
   "cell_type": "markdown",
   "id": "ccf383a9",
   "metadata": {},
   "source": [
    "1) intergers"
   ]
  },
  {
   "cell_type": "markdown",
   "id": "9296d196",
   "metadata": {},
   "source": [
    "- How can you creat a variable that an integer?"
   ]
  },
  {
   "cell_type": "code",
   "execution_count": 1,
   "id": "8bbf1855",
   "metadata": {},
   "outputs": [],
   "source": [
    "x=15 # x --> symbol(name) , 15 --> value \n",
    "# Python searches for an empty space in memory and stores the value of variable (x)\n",
    "y=4\n",
    "z=6 "
   ]
  },
  {
   "cell_type": "markdown",
   "id": "1dccd428",
   "metadata": {},
   "source": [
    "- You can also ask python about the type of the variable .... using --> type() function."
   ]
  },
  {
   "cell_type": "code",
   "execution_count": 2,
   "id": "92829748",
   "metadata": {},
   "outputs": [
    {
     "data": {
      "text/plain": [
       "int"
      ]
     },
     "execution_count": 2,
     "metadata": {},
     "output_type": "execute_result"
    }
   ],
   "source": [
    "x=14 \n",
    "type(x)#type--> it is used to determine the type of the variable "
   ]
  },
  {
   "cell_type": "markdown",
   "id": "8b43ad64",
   "metadata": {},
   "source": [
    "2. Floats"
   ]
  },
  {
   "cell_type": "code",
   "execution_count": 3,
   "id": "cfda941b",
   "metadata": {},
   "outputs": [
    {
     "data": {
      "text/plain": [
       "float"
      ]
     },
     "execution_count": 3,
     "metadata": {},
     "output_type": "execute_result"
    }
   ],
   "source": [
    "x=4.5 \n",
    "y=5.0 \n",
    "v=9.7 \n",
    "type(x)"
   ]
  },
  {
   "cell_type": "markdown",
   "id": "93f33e0f",
   "metadata": {},
   "source": [
    "3. Characters"
   ]
  },
  {
   "cell_type": "code",
   "execution_count": 4,
   "id": "95d13838",
   "metadata": {},
   "outputs": [
    {
     "data": {
      "text/plain": [
       "str"
      ]
     },
     "execution_count": 4,
     "metadata": {},
     "output_type": "execute_result"
    }
   ],
   "source": [
    "x='s'\n",
    "c='t'\n",
    "type(x)# The Character is part of the class string in python "
   ]
  },
  {
   "cell_type": "markdown",
   "id": "597b4daf",
   "metadata": {},
   "source": [
    "4. Strings"
   ]
  },
  {
   "cell_type": "code",
   "execution_count": 5,
   "id": "c8ddd492",
   "metadata": {},
   "outputs": [
    {
     "data": {
      "text/plain": [
       "str"
      ]
     },
     "execution_count": 5,
     "metadata": {},
     "output_type": "execute_result"
    }
   ],
   "source": [
    "x='samer'\n",
    "y='python'\n",
    "z='love'\n",
    "type(x)"
   ]
  },
  {
   "cell_type": "markdown",
   "id": "2924cd13",
   "metadata": {},
   "source": [
    "5. Complex"
   ]
  },
  {
   "cell_type": "code",
   "execution_count": 3,
   "id": "e2f67fa9",
   "metadata": {},
   "outputs": [
    {
     "data": {
      "text/plain": [
       "complex"
      ]
     },
     "execution_count": 3,
     "metadata": {},
     "output_type": "execute_result"
    }
   ],
   "source": [
    "x=complex('7+5j') # you need to use the letter j . # 7--> real numbers , 5j--> imaginary unit  \n",
    "type(x)"
   ]
  },
  {
   "cell_type": "markdown",
   "id": "a74dbbd0",
   "metadata": {},
   "source": [
    "6. Boolean"
   ]
  },
  {
   "cell_type": "code",
   "execution_count": 7,
   "id": "3c2007f0",
   "metadata": {},
   "outputs": [
    {
     "data": {
      "text/plain": [
       "bool"
      ]
     },
     "execution_count": 7,
     "metadata": {},
     "output_type": "execute_result"
    }
   ],
   "source": [
    "x=True\n",
    "y=False\n",
    "type(y)"
   ]
  },
  {
   "cell_type": "markdown",
   "id": "974c5a81",
   "metadata": {},
   "source": [
    "# - Casting...."
   ]
  },
  {
   "cell_type": "markdown",
   "id": "6ff27888",
   "metadata": {},
   "source": [
    "**- A cast is a way of explicitly informing the compiler that you intend to make the conversion and that you are aware that data loss might occur, or the cast may fail at run time.**"
   ]
  },
  {
   "cell_type": "markdown",
   "id": "edff7250",
   "metadata": {},
   "source": [
    "**- Can you casting from:**\n",
    "\n",
    "     - int:\n",
    "     \n",
    "       1) int --> float .\n",
    "\n",
    "       2) int --> str .\n",
    "\n",
    "       3) int --> complex .\n",
    "\n",
    "       4) int --> character .\n",
    "       \n",
    "    - float:\n",
    "\n",
    "       1) float --> int .\n",
    "\n",
    "       2) float --> str .\n",
    "\n",
    "       3) float --> complex .\n",
    "    \n",
    "    - str:\n",
    "\n",
    "       1) str --> int .# when str='9' or '10' .... ect \n",
    "\n",
    "       2) str --> float .# when str='9.0' or '10.0' .... ect \n",
    "\n",
    "       3) str --> complex .# when str='9+5j' or '10+2j' .... ect \n",
    "   \n",
    "    - Complex:\n",
    "\n",
    "       1) complex --> str.\n",
    "\n",
    "       2) character --> int .\n",
    "       \n",
    "    - Chr:\n",
    "    \n",
    "       1) character --> int . # using ord() function.\n",
    "       \n",
    "       - Note: 'a' in int (97) ,'b' --> 98 ...ect , 'A' --> 65 , 'B' --> 66 ...ect (65 is ascii for A) .\n",
    "       \n",
    "    - Boolean:\n",
    "     \n",
    "       - any things are empty like (None , '',\"\",0) represent False in bool otherwise True .\n",
    "       "
   ]
  },
  {
   "cell_type": "markdown",
   "id": "b893d201",
   "metadata": {},
   "source": [
    "**- Casting Function: float(), int(), str(), coplex(), bool(),chr(), ord() .**"
   ]
  },
  {
   "cell_type": "code",
   "execution_count": 5,
   "id": "c848098f",
   "metadata": {},
   "outputs": [
    {
     "name": "stdout",
     "output_type": "stream",
     "text": [
      "<class 'int'>\n",
      "<class 'float'>\n"
     ]
    }
   ],
   "source": [
    "#Example\n",
    "x=5 \n",
    "print(type(x))\n",
    "x=float(x)\n",
    "print(type(x))"
   ]
  },
  {
   "cell_type": "code",
   "execution_count": 6,
   "id": "b937a90d",
   "metadata": {},
   "outputs": [
    {
     "name": "stdout",
     "output_type": "stream",
     "text": [
      "<class 'float'>\n",
      "<class 'int'>\n"
     ]
    }
   ],
   "source": [
    "x=5.5\n",
    "print(type(x))\n",
    "x=int(x)\n",
    "print(type(x))"
   ]
  },
  {
   "cell_type": "code",
   "execution_count": 8,
   "id": "c031793f",
   "metadata": {},
   "outputs": [
    {
     "name": "stdout",
     "output_type": "stream",
     "text": [
      "65\n"
     ]
    }
   ],
   "source": [
    "#catsiing from chr to int \n",
    "#print(int('A')) #error\n",
    "print(ord('A')) # True "
   ]
  },
  {
   "cell_type": "markdown",
   "id": "4f88a0be",
   "metadata": {},
   "source": [
    "# - Display results..."
   ]
  },
  {
   "cell_type": "markdown",
   "id": "7d8945ab",
   "metadata": {},
   "source": [
    "**- You display the results in python , you use --> print() or if you intend to display a single result at the end in work , you can simply write it .**"
   ]
  },
  {
   "cell_type": "code",
   "execution_count": 9,
   "id": "bc7f1f6b",
   "metadata": {},
   "outputs": [
    {
     "data": {
      "text/plain": [
       "2"
      ]
     },
     "execution_count": 9,
     "metadata": {},
     "output_type": "execute_result"
    }
   ],
   "source": [
    "#Here is an example of the first way (simple) to display single result ....\n",
    "x=2 \n",
    "x"
   ]
  },
  {
   "cell_type": "code",
   "execution_count": 10,
   "id": "12aac7a6",
   "metadata": {},
   "outputs": [
    {
     "data": {
      "text/plain": [
       "'i love python '"
      ]
     },
     "execution_count": 10,
     "metadata": {},
     "output_type": "execute_result"
    }
   ],
   "source": [
    "'samer'\n",
    "'i love python ' # print last element \n",
    "#For this main reason , and sometimes due to the need formatting , it is necessary to learn how to use the print function "
   ]
  },
  {
   "cell_type": "code",
   "execution_count": 12,
   "id": "552d6661",
   "metadata": {},
   "outputs": [
    {
     "name": "stdout",
     "output_type": "stream",
     "text": [
      "9\n",
      "i love python\n"
     ]
    }
   ],
   "source": [
    "# print()--> used for display multi result :)\n",
    "#Example..\n",
    "print(9)\n",
    "print('i love python')"
   ]
  },
  {
   "cell_type": "markdown",
   "id": "2f6bc619",
   "metadata": {},
   "source": [
    "**- Note --> Every print function contains a newline command at the end .... Can I change or remove it ? yes , you can By using the 'end' function (defualt end=newline)....Please refer to the examples below ...**\n"
   ]
  },
  {
   "cell_type": "code",
   "execution_count": 15,
   "id": "746b057a",
   "metadata": {},
   "outputs": [
    {
     "name": "stdout",
     "output_type": "stream",
     "text": [
      "samer\n",
      "samer harb\n",
      "samerharb\n"
     ]
    }
   ],
   "source": [
    "#Example..\n",
    "print('samer') # defualt end=newline\n",
    "print('samer',end=' ')  # change\n",
    "print('harb')\n",
    "print('samer',end='')#remove\n",
    "print('harb')"
   ]
  },
  {
   "cell_type": "markdown",
   "id": "c1354888",
   "metadata": {},
   "source": [
    "- **Note:You can print multiple outputs using tha same print() function (,) separating them with comma, which is translated as a space...**\n"
   ]
  },
  {
   "cell_type": "code",
   "execution_count": 12,
   "id": "fe92fcbb",
   "metadata": {},
   "outputs": [
    {
     "name": "stdout",
     "output_type": "stream",
     "text": [
      "my name is samer and I am 20 years old\n"
     ]
    }
   ],
   "source": [
    "print('my name is samer','and I am 20 years old')"
   ]
  },
  {
   "cell_type": "markdown",
   "id": "645cf1ad",
   "metadata": {},
   "source": [
    "# -  Formatting.."
   ]
  },
  {
   "cell_type": "markdown",
   "id": "ca7c4b5d",
   "metadata": {},
   "source": [
    "# -  Way 1..\n"
   ]
  },
  {
   "cell_type": "markdown",
   "id": "83de0fd8",
   "metadata": {},
   "source": [
    "\n",
    "- %s --> string.\n",
    "\n",
    "- %d --> digit (int).\n",
    "\n",
    "- %f --> digit (float) #defualt 6 zeros after point.\n",
    "\n",
    "- %c --> character ."
   ]
  },
  {
   "cell_type": "code",
   "execution_count": 16,
   "id": "574f0d7b",
   "metadata": {},
   "outputs": [
    {
     "name": "stdout",
     "output_type": "stream",
     "text": [
      "My name is samer\n"
     ]
    }
   ],
   "source": [
    "x='samer'\n",
    "print('My name is %s'%x)"
   ]
  },
  {
   "cell_type": "code",
   "execution_count": 17,
   "id": "b8a4bb7b",
   "metadata": {},
   "outputs": [
    {
     "name": "stdout",
     "output_type": "stream",
     "text": [
      "I am 20 years old\n"
     ]
    }
   ],
   "source": [
    "x=20\n",
    "print('I am %d years old'%x)"
   ]
  },
  {
   "cell_type": "markdown",
   "id": "cacd1965",
   "metadata": {},
   "source": [
    "**- Note**--> if :\n",
    "    \n",
    "    x=20\n",
    "    \n",
    "    print('I am %s years old'%x)\n",
    "    \n",
    "    %s?! but type x is int  --> compiler convert to string\n",
    "     \n",
    "     \n",
    "    buttt ......\n",
    "    x='samer\n",
    "    \n",
    "    print('I am %d years old'%x)\n",
    "    \n",
    "    %d?! but type x is string  --> errror can not be convert string to int ( mentioned convert or casting ruels)."
   ]
  },
  {
   "cell_type": "code",
   "execution_count": 18,
   "id": "1550f272",
   "metadata": {},
   "outputs": [
    {
     "name": "stdout",
     "output_type": "stream",
     "text": [
      "I am 20 years old\n"
     ]
    }
   ],
   "source": [
    "x=20\n",
    "print('I am %s years old'%x)"
   ]
  },
  {
   "cell_type": "code",
   "execution_count": 19,
   "id": "bbd212ec",
   "metadata": {},
   "outputs": [],
   "source": [
    "x='samer'\n",
    "#print('I am %d years old'%x) error"
   ]
  },
  {
   "cell_type": "code",
   "execution_count": 20,
   "id": "a7dd9ed9",
   "metadata": {},
   "outputs": [
    {
     "name": "stdout",
     "output_type": "stream",
     "text": [
      "My name is samer, my age is 20 years old  and my salary is 10.000000\n"
     ]
    }
   ],
   "source": [
    "name='samer'\n",
    "age=20\n",
    "salary=10\n",
    "print('My name is %s, my age is %d years old  and my salary is %f'%(name,age,salary))"
   ]
  },
  {
   "cell_type": "code",
   "execution_count": 21,
   "id": "6096aedb",
   "metadata": {},
   "outputs": [
    {
     "name": "stdout",
     "output_type": "stream",
     "text": [
      "my name is samer\n",
      "my age is 12.0\n"
     ]
    }
   ],
   "source": [
    "#slicing in way 1...\n",
    "name='samer harb'\n",
    "print('my name is %.5s'%name)# first 5 elements \n",
    "age=12\n",
    "print('my age is %.1f'%age)# 1 zero after point "
   ]
  },
  {
   "cell_type": "markdown",
   "id": "d2f8b01a",
   "metadata": {},
   "source": [
    "# - Way 2..."
   ]
  },
  {
   "cell_type": "code",
   "execution_count": 22,
   "id": "4856962b",
   "metadata": {},
   "outputs": [
    {
     "name": "stdout",
     "output_type": "stream",
     "text": [
      "My name is samer\n"
     ]
    }
   ],
   "source": [
    "x='samer'\n",
    "print('My name is {}'.format(x))"
   ]
  },
  {
   "cell_type": "code",
   "execution_count": 23,
   "id": "efbf9575",
   "metadata": {},
   "outputs": [
    {
     "name": "stdout",
     "output_type": "stream",
     "text": [
      "I am 20 years old\n",
      "I am 20 years old\n"
     ]
    }
   ],
   "source": [
    "x=20\n",
    "print('I am {} years old'.format(x)) # without (d)..\n",
    "print('I am {:d} years old'.format(x)) # with (d)"
   ]
  },
  {
   "cell_type": "code",
   "execution_count": 26,
   "id": "223772a4",
   "metadata": {},
   "outputs": [
    {
     "name": "stdout",
     "output_type": "stream",
     "text": [
      "My name is samer, my age is 20 years old  and my salary is 500\n"
     ]
    }
   ],
   "source": [
    "name='samer'\n",
    "age=20\n",
    "salary=500\n",
    "print('My name is {}, my age is {} years old  and my salary is {}'.format(name,age,salary))"
   ]
  },
  {
   "cell_type": "code",
   "execution_count": 27,
   "id": "65e52335",
   "metadata": {},
   "outputs": [
    {
     "name": "stdout",
     "output_type": "stream",
     "text": [
      "my name is samer\n",
      "my age is 12.0\n",
      "my salary is 122,995\n"
     ]
    }
   ],
   "source": [
    "#slicing in way 2...\n",
    "name='samer harb'\n",
    "print('my name is {:.5s}'.format(name))# first 5 elements \n",
    "age=12\n",
    "print('my age is {:.1f}'.format(age))# 1 zero after point \n",
    "salary=122995\n",
    "print('my salary is {:,d}'.format(salary)) # can use (_)"
   ]
  },
  {
   "cell_type": "code",
   "execution_count": 28,
   "id": "21672b1c",
   "metadata": {},
   "outputs": [
    {
     "name": "stdout",
     "output_type": "stream",
     "text": [
      "My name is samer harb, my age is 12 years old  and my salary is 122995\n"
     ]
    }
   ],
   "source": [
    "#Rearrange Item ...\n",
    "print('My name is {2}, my age is {0} years old  and my salary is {1}'.format(age,salary,name))"
   ]
  },
  {
   "cell_type": "code",
   "execution_count": 29,
   "id": "77cdbe1d",
   "metadata": {},
   "outputs": [
    {
     "name": "stdout",
     "output_type": "stream",
     "text": [
      "My name is samer, my age is 12 years old  and my salary is 122,995\n"
     ]
    }
   ],
   "source": [
    "print('My name is {2:.5s}, my age is {0} years old  and my salary is {1:,d}'.format(age,salary,name))"
   ]
  },
  {
   "cell_type": "code",
   "execution_count": 30,
   "id": "059e2f9d",
   "metadata": {},
   "outputs": [
    {
     "data": {
      "text/plain": [
       "'samer harb'"
      ]
     },
     "execution_count": 30,
     "metadata": {},
     "output_type": "execute_result"
    }
   ],
   "source": [
    "'{first} {last}'.format(first='samer', last='harb')"
   ]
  },
  {
   "cell_type": "code",
   "execution_count": 31,
   "id": "555d1e76",
   "metadata": {},
   "outputs": [
    {
     "data": {
      "text/plain": [
       "'samer h'"
      ]
     },
     "execution_count": 31,
     "metadata": {},
     "output_type": "execute_result"
    }
   ],
   "source": [
    "'{first} {last[0]}'.format(first='samer', last='harb')"
   ]
  },
  {
   "cell_type": "markdown",
   "id": "b406eb72",
   "metadata": {},
   "source": [
    "# - Way 3..."
   ]
  },
  {
   "cell_type": "markdown",
   "id": "b1dc0533",
   "metadata": {},
   "source": [
    "**- General formula:**\n",
    "\n",
    "- {variable: (0 optinal)(rigth or left or middle)(sign)(0 optinal)(number of spaces).(, or _)(slice or floating)type of variable}\n",
    "\n",
    "- Notes:\n",
    " \n",
    "   1) (0 optinal) --> possible at the beginning or after sign.\n",
    "\n",
    "   2) sign just in numbers .\n",
    "\n",
    "   3) (, or _) just in int(d).\n",
    "\n",
    "   4) slice just in string (s).\n",
    "\n",
    "   5) floating point just in float (f).\n",
    "\n",
    "   6)  (>) --> right , (<) --> left ,(^) --> middle ."
   ]
  },
  {
   "cell_type": "code",
   "execution_count": 85,
   "id": "d577329f",
   "metadata": {},
   "outputs": [
    {
     "data": {
      "text/plain": [
       "'000samer000'"
      ]
     },
     "execution_count": 85,
     "metadata": {},
     "output_type": "execute_result"
    }
   ],
   "source": [
    "x='samer'\n",
    "f'{x:^011s}'\n",
    "# 11 --> 11 spaces\n",
    "#^ --> center the string (3 spaces  samer 3 spaces )\n",
    "#0 --> fill 0 in the spaces"
   ]
  },
  {
   "cell_type": "code",
   "execution_count": 32,
   "id": "8433b023",
   "metadata": {},
   "outputs": [
    {
     "data": {
      "text/plain": [
       "'      samer'"
      ]
     },
     "execution_count": 32,
     "metadata": {},
     "output_type": "execute_result"
    }
   ],
   "source": [
    "x='samer'\n",
    "f'{x:>11s}'\n",
    "# 11 --> 11 spaces\n",
    "#> --> put the word to the right\n"
   ]
  },
  {
   "cell_type": "code",
   "execution_count": 33,
   "id": "a584dcad",
   "metadata": {},
   "outputs": [
    {
     "name": "stdout",
     "output_type": "stream",
     "text": [
      "My name is samer\n"
     ]
    }
   ],
   "source": [
    "x='samer'\n",
    "print(f'My name is {x}')"
   ]
  },
  {
   "cell_type": "code",
   "execution_count": 34,
   "id": "d8e2cf76",
   "metadata": {},
   "outputs": [
    {
     "name": "stdout",
     "output_type": "stream",
     "text": [
      "I am 20 years old\n",
      "I am +20 years old\n"
     ]
    }
   ],
   "source": [
    "x=20\n",
    "print(f'I am {x} years old') # without (d) or ..\n",
    "print(f'I am {x:+d} years old') "
   ]
  },
  {
   "cell_type": "code",
   "execution_count": 35,
   "id": "b21ad1e3",
   "metadata": {},
   "outputs": [
    {
     "name": "stdout",
     "output_type": "stream",
     "text": [
      "My name is samer, my age is 20 years old  and my salary is 500\n"
     ]
    }
   ],
   "source": [
    "name='samer'\n",
    "age=20\n",
    "salary=500\n",
    "print(f'My name is {name}, my age is {age} years old  and my salary is {salary}')"
   ]
  },
  {
   "cell_type": "code",
   "execution_count": 36,
   "id": "ed141711",
   "metadata": {},
   "outputs": [
    {
     "name": "stdout",
     "output_type": "stream",
     "text": [
      "my name is samer\n",
      "my age is 12.0\n",
      "my salary is 122,995\n"
     ]
    }
   ],
   "source": [
    "#slicing in way 2...\n",
    "name='samer harb'\n",
    "print(f'my name is {name:.5s}')# first 5 elements \n",
    "age=12\n",
    "print(f'my age is {age:.1f}')# 1 zero after point \n",
    "salary=122995\n",
    "print(f'my salary is {salary:,d}') # can use (_)"
   ]
  },
  {
   "cell_type": "markdown",
   "id": "b89ca1c0",
   "metadata": {},
   "source": [
    "# - Special  Characters..."
   ]
  },
  {
   "cell_type": "markdown",
   "id": "cb486cc4",
   "metadata": {},
   "source": [
    "- **There are certain characters that have special meanings when written , such as :**\n",
    "\n",
    "    1) \\n --> new line, note --> any 'print()' function contains a newline character at the end .\n",
    "\n",
    "    2) \\t --> 7 spaces .\n",
    "\n",
    "    3) \\r--> Carriage return .\n",
    "\n",
    "    4) \\b--> Backspace .\n",
    "\n",
    "    5) \\'--> Single Quote .\n",
    "\n",
    "    6) \\\"--> double quote .\n",
    "\n",
    "    7) \\--> Backslash ."
   ]
  },
  {
   "cell_type": "code",
   "execution_count": 37,
   "id": "7485fa84",
   "metadata": {},
   "outputs": [
    {
     "name": "stdout",
     "output_type": "stream",
     "text": [
      "samer\n",
      "harb\n"
     ]
    }
   ],
   "source": [
    "#Examples \n",
    "print('samer\\nharb')\n"
   ]
  },
  {
   "cell_type": "code",
   "execution_count": 38,
   "id": "011112ac",
   "metadata": {},
   "outputs": [
    {
     "name": "stdout",
     "output_type": "stream",
     "text": [
      "samer\r",
      "harb\n"
     ]
    }
   ],
   "source": [
    "print('samer\\rharb')"
   ]
  },
  {
   "cell_type": "code",
   "execution_count": 39,
   "id": "b584006b",
   "metadata": {},
   "outputs": [
    {
     "name": "stdout",
     "output_type": "stream",
     "text": [
      "samer\bharb\n"
     ]
    }
   ],
   "source": [
    "print('samer\\bharb')"
   ]
  },
  {
   "cell_type": "code",
   "execution_count": 40,
   "id": "fe634f6f",
   "metadata": {},
   "outputs": [
    {
     "name": "stdout",
     "output_type": "stream",
     "text": [
      "\\\n",
      "'\n"
     ]
    }
   ],
   "source": [
    "print('\\\\')\n",
    "print('\\'')"
   ]
  },
  {
   "cell_type": "code",
   "execution_count": 41,
   "id": "9291639b",
   "metadata": {},
   "outputs": [],
   "source": [
    "#name='samer\n",
    "#     harb' #--> error \n",
    "#print(name)"
   ]
  },
  {
   "cell_type": "code",
   "execution_count": 42,
   "id": "60218369",
   "metadata": {},
   "outputs": [
    {
     "name": "stdout",
     "output_type": "stream",
     "text": [
      "samer harb\n"
     ]
    }
   ],
   "source": [
    "name='samer\\\n",
    " harb'\n",
    "print(name)"
   ]
  },
  {
   "cell_type": "markdown",
   "id": "e4b03c54",
   "metadata": {},
   "source": [
    "**- How do I print specail characters as character? using (r):**"
   ]
  },
  {
   "cell_type": "code",
   "execution_count": 43,
   "id": "be9bef46",
   "metadata": {},
   "outputs": [
    {
     "name": "stdout",
     "output_type": "stream",
     "text": [
      "\n",
      "\n",
      "\\n\n"
     ]
    }
   ],
   "source": [
    "#Example\n",
    "print('\\n')#--> newline\n",
    "print(r'\\n')#--> print \\n"
   ]
  },
  {
   "cell_type": "markdown",
   "id": "99717b61",
   "metadata": {},
   "source": [
    "# - Single VS Double VS Trouble Quotes ...."
   ]
  },
  {
   "cell_type": "markdown",
   "id": "e7cf623a",
   "metadata": {},
   "source": [
    "- Trouble --> (''' ''') or (\"\"\" \"\"\") .\n",
    "\n",
    "- Single and double --> no need to escape ( \\\\ ) a character in (') or (\").."
   ]
  },
  {
   "cell_type": "code",
   "execution_count": 44,
   "id": "8e69a11b",
   "metadata": {},
   "outputs": [
    {
     "name": "stdout",
     "output_type": "stream",
     "text": [
      "We're going skiing this winter.\n",
      "We're going skiing this winter.\n",
      "\"samer\"\n"
     ]
    }
   ],
   "source": [
    "#example..\n",
    "print(\"We're going skiing this winter.\")#with double quotes..\n",
    "print('We\\'re going skiing this winter.')#without double quotes..\n",
    "print('\"samer\"')"
   ]
  },
  {
   "cell_type": "markdown",
   "id": "fd70631d",
   "metadata": {},
   "source": [
    " **- Trouble --> Using them alone allows you not to use an escape ( \\\\ ) a character .**"
   ]
  },
  {
   "cell_type": "code",
   "execution_count": 45,
   "id": "0b219a7b",
   "metadata": {},
   "outputs": [
    {
     "name": "stdout",
     "output_type": "stream",
     "text": [
      "We're going skiing this winter.\n",
      "We're going skiing this winter.\n"
     ]
    }
   ],
   "source": [
    "#example..\n",
    "print('''We're going skiing this winter.''')\n",
    "print(\"\"\"We're going skiing this winter.\"\"\")"
   ]
  },
  {
   "cell_type": "markdown",
   "id": "fd927bfc",
   "metadata": {},
   "source": [
    "# - Escape character VS Trouble Quotes..."
   ]
  },
  {
   "cell_type": "code",
   "execution_count": 46,
   "id": "884e38ad",
   "metadata": {},
   "outputs": [
    {
     "name": "stdout",
     "output_type": "stream",
     "text": [
      "name_trouble: samer\n",
      "emad\n",
      "harb\n",
      "name_escape: samer emad harb\n"
     ]
    }
   ],
   "source": [
    "name_trouble='''samer\n",
    "emad\n",
    "harb'''\n",
    "name_escape='samer\\\n",
    " emad\\\n",
    " harb'\n",
    "print('name_trouble:',name_trouble)\n",
    "print('name_escape:',name_escape)"
   ]
  },
  {
   "cell_type": "markdown",
   "id": "df6bedb7",
   "metadata": {},
   "source": [
    "# - Operations.."
   ]
  },
  {
   "cell_type": "markdown",
   "id": "24d8cdf7",
   "metadata": {},
   "source": [
    "1. Arithmetic\n",
    "\n",
    "   - Addition --> ( + )\n",
    "\n",
    "       - note--> str + (number or bool) --> error\n",
    "\n",
    "   - Subtraction --> ( - )\n",
    "\n",
    "       - note--> str + (number or bool) --> error\n",
    "\n",
    "   - Multiplication ---> ( * )\n",
    "\n",
    "       - note--> str * (number or bool) --> string repeat\n",
    "\n",
    "   - Division -->  ( / ) or ( // )\n",
    "\n",
    "       - note--> str /(number or bool) --> error\n",
    "\n",
    "       - / --> return float value , // --> return int value\n",
    "\n",
    "   - Remainder --> ( % )\n",
    "\n",
    "   - Exponentiation --> ( ** )\n",
    "\n",
    "   - Assignment --> ( = )"
   ]
  },
  {
   "cell_type": "code",
   "execution_count": 48,
   "id": "c85163e5",
   "metadata": {},
   "outputs": [
    {
     "name": "stdout",
     "output_type": "stream",
     "text": [
      "rrrr\n",
      "4\n",
      "0\n",
      "r\n",
      "\n"
     ]
    }
   ],
   "source": [
    "#Example :\n",
    "print(4* 'r' ) #repeat 'r'  4 times\n",
    "print(4 * True) #(4*1)  print 4\n",
    "print( 4* False )# (4 *0) print 0 \n",
    "print('r'*True)# ('r' * 1) print r\n",
    "print('r' * False) #('r' *0) not repeat r print \"\"\n",
    "#print('r'+ 1) error num +str"
   ]
  },
  {
   "cell_type": "markdown",
   "id": "c59989e9",
   "metadata": {},
   "source": [
    "**- Remainder (some rules):**\n",
    "\n",
    "1) 4%3 --> 4-3=1 (1 is less than 3) stop --> result 1\n",
    "\n",
    "2) 3%4 --> left side already less than right side soo result is left side --> 3\n",
    "\n",
    "3) 3%-4 --> result --> -3\n",
    "\n",
    "4) -4%3 --> 3*2 =6 --> 6-4 =2\n",
    "\n",
    "**......................**"
   ]
  },
  {
   "cell_type": "markdown",
   "id": "3762e2a0",
   "metadata": {},
   "source": [
    "**2. Logical**:\n",
    "\n",
    "1) Or ---> or\n",
    "\n",
    "   - True or False --> True\n",
    "\n",
    "   - True or True --> True\n",
    "\n",
    "   - False or False --> False\n",
    "\n",
    "2) And --> and\n",
    "\n",
    "   - True and False --> False\n",
    "\n",
    "   - True and True --> True\n",
    "\n",
    "   - False and False --> False\n",
    "\n",
    "3) Not ---> not\n",
    "\n",
    "   - not( Trur or False) --> not(True) --> False\n",
    "\n",
    "   - True and not(False) ---> True and True --> True\n",
    "\n",
    "**......................**"
   ]
  },
  {
   "cell_type": "markdown",
   "id": "8b2ec4f2",
   "metadata": {},
   "source": [
    "**3. Cmparisons**\n",
    "\n",
    "   - (<) or (>)  \n",
    "\n",
    "   - (>=) or (<=)\n",
    "\n",
    "   - == --> equal ?\n",
    "\n",
    "   - != --> not equal?"
   ]
  },
  {
   "cell_type": "markdown",
   "id": "ed77a58e",
   "metadata": {},
   "source": [
    "**- Note --> The comparison between the letters depends on the alphabetical order and senstive (A != a).**"
   ]
  },
  {
   "cell_type": "code",
   "execution_count": 40,
   "id": "20421265",
   "metadata": {},
   "outputs": [
    {
     "name": "stdout",
     "output_type": "stream",
     "text": [
      "False\n",
      "False\n"
     ]
    }
   ],
   "source": [
    "#Example\n",
    "print('a'>'b') # False\n",
    "print('A'=='a') # False"
   ]
  },
  {
   "cell_type": "markdown",
   "id": "5005e420",
   "metadata": {},
   "source": [
    "# - Order of operation.."
   ]
  },
  {
   "cell_type": "markdown",
   "id": "26d49c3f",
   "metadata": {},
   "source": [
    "1) parentheses\n",
    "\n",
    "2) exponent\n",
    "\n",
    "3) multiplication ,division , Remainder --> left to right\n",
    "\n",
    "4) add , sub ---> left to right"
   ]
  },
  {
   "cell_type": "markdown",
   "id": "9426a88c",
   "metadata": {},
   "source": [
    "# - Input.."
   ]
  },
  {
   "cell_type": "markdown",
   "id": "e3755f75",
   "metadata": {},
   "source": [
    "1) input( 'any things')\n",
    "\n",
    "2) return str value"
   ]
  },
  {
   "cell_type": "code",
   "execution_count": 49,
   "id": "2640932d",
   "metadata": {},
   "outputs": [
    {
     "name": "stdout",
     "output_type": "stream",
     "text": [
      "enter number4\n",
      "<class 'str'>\n"
     ]
    }
   ],
   "source": [
    "x=input('enter number')\n",
    "print(type(x))"
   ]
  },
  {
   "cell_type": "markdown",
   "id": "b24bc2a4",
   "metadata": {},
   "source": [
    "**- Note: Python relies indentation (space at the beginning of a line).**"
   ]
  },
  {
   "cell_type": "markdown",
   "id": "e756e1c1",
   "metadata": {},
   "source": [
    "# - IF Statement..."
   ]
  },
  {
   "cell_type": "markdown",
   "id": "cd4d5048",
   "metadata": {},
   "source": [
    "**- True --> execute .**\n",
    "\n",
    "**- False --> not execute .**"
   ]
  },
  {
   "cell_type": "code",
   "execution_count": 50,
   "id": "ba5de678",
   "metadata": {},
   "outputs": [
    {
     "name": "stdout",
     "output_type": "stream",
     "text": [
      "yes\n"
     ]
    }
   ],
   "source": [
    "#Example -->\n",
    "if 7>5 or 6>6 :  # True or False --> True --> execute \n",
    "    print('yes')"
   ]
  },
  {
   "cell_type": "markdown",
   "id": "db6ca83e",
   "metadata": {},
   "source": [
    "**- not execute --> else .**"
   ]
  },
  {
   "cell_type": "code",
   "execution_count": 51,
   "id": "394249c2",
   "metadata": {},
   "outputs": [
    {
     "name": "stdout",
     "output_type": "stream",
     "text": [
      "no\n"
     ]
    }
   ],
   "source": [
    "#Example -->\n",
    "if 7>5 and 6>6 :  # True and False --> False --> not execute  --> else\n",
    "    print('yes')\n",
    "    \n",
    "else:\n",
    "    print('no')"
   ]
  },
  {
   "cell_type": "markdown",
   "id": "f67752d8",
   "metadata": {},
   "source": [
    "**Note: elif --> else + if .**"
   ]
  },
  {
   "cell_type": "code",
   "execution_count": 52,
   "id": "64a5d7b4",
   "metadata": {},
   "outputs": [
    {
     "name": "stdout",
     "output_type": "stream",
     "text": [
      "no\n"
     ]
    }
   ],
   "source": [
    "#Example\n",
    "if 7>5 and 6>6 :  # True and False --> False --> not execute  --> else\n",
    "    print('yes')\n",
    "    \n",
    "elif 9>8:# True --> execute\n",
    "    print('no')"
   ]
  },
  {
   "cell_type": "code",
   "execution_count": 53,
   "id": "7953ced8",
   "metadata": {},
   "outputs": [
    {
     "name": "stdout",
     "output_type": "stream",
     "text": [
      ":(\n"
     ]
    }
   ],
   "source": [
    "#Example ..\n",
    "if 7>5 and 6>6 :  # True and False --> False --> not execute  --> else\n",
    "    print('yes')\n",
    "    \n",
    "elif 9<8:# false --> not execute\n",
    "    print('no')\n",
    "    \n",
    "else:\n",
    "    print(':(')"
   ]
  },
  {
   "cell_type": "markdown",
   "id": "89e64f35",
   "metadata": {},
   "source": [
    "# - Iteration Statement..."
   ]
  },
  {
   "cell_type": "markdown",
   "id": "33e06c99",
   "metadata": {},
   "source": [
    "**1. FOR...**\n",
    "\n",
    "- range function --> The range() function returns a sequence of numbers ,starting from 0 by default, and increments by 1(by defualt) ,and stop before a specified number. range(start,end,step)# The end must be entered"
   ]
  },
  {
   "cell_type": "code",
   "execution_count": 54,
   "id": "21002f68",
   "metadata": {},
   "outputs": [
    {
     "name": "stdout",
     "output_type": "stream",
     "text": [
      "yes\n",
      "yes\n",
      "yes\n",
      "yes\n",
      "yes\n",
      "yes\n",
      "yes\n",
      "yes\n",
      "yes\n",
      "yes\n"
     ]
    }
   ],
   "source": [
    "#Example...\n",
    "for i in range(10):#print yes 10 times \n",
    "    print('yes')"
   ]
  },
  {
   "cell_type": "markdown",
   "id": "4aa14c48",
   "metadata": {},
   "source": [
    "**- Note --> The number of itrations can not be changed.**"
   ]
  },
  {
   "cell_type": "code",
   "execution_count": 55,
   "id": "41ff709b",
   "metadata": {},
   "outputs": [
    {
     "name": "stdout",
     "output_type": "stream",
     "text": [
      "yes\n",
      "yes\n",
      "yes\n",
      "yes\n",
      "yes\n",
      "yes\n",
      "yes\n",
      "yes\n",
      "yes\n",
      "yes\n"
     ]
    }
   ],
   "source": [
    "#Example\n",
    "for i in range(10):#print yes 10 times .\n",
    "    i=10 \n",
    "    print('yes')"
   ]
  },
  {
   "cell_type": "markdown",
   "id": "e181e7df",
   "metadata": {},
   "source": [
    "**2. While**"
   ]
  },
  {
   "cell_type": "code",
   "execution_count": 56,
   "id": "08554bc5",
   "metadata": {},
   "outputs": [
    {
     "name": "stdout",
     "output_type": "stream",
     "text": [
      "yes\n",
      "yes\n",
      "yes\n",
      "yes\n",
      "yes\n"
     ]
    }
   ],
   "source": [
    "#Example\n",
    "i=1\n",
    "while(i<=5):#print yes 5 times\n",
    "    print('yes')\n",
    "    i+=1"
   ]
  },
  {
   "cell_type": "markdown",
   "id": "338432c2",
   "metadata": {},
   "source": [
    "**- Note: else in while ---> excute when condintion in while =False.**"
   ]
  },
  {
   "cell_type": "code",
   "execution_count": 58,
   "id": "a9b09514",
   "metadata": {},
   "outputs": [
    {
     "name": "stdout",
     "output_type": "stream",
     "text": [
      "yes\n",
      "yes\n",
      "yes\n",
      "yes\n",
      "yes\n",
      "end\n"
     ]
    }
   ],
   "source": [
    "#Example\n",
    "i=1\n",
    "while(i<=5):#print yes 5 times\n",
    "    print('yes')\n",
    "    i+=1\n",
    "else:\n",
    "    print('end') "
   ]
  },
  {
   "cell_type": "markdown",
   "id": "b616ecf4",
   "metadata": {},
   "source": [
    "# Skip and Stop function ...."
   ]
  },
  {
   "cell_type": "markdown",
   "id": "8f101c1e",
   "metadata": {},
   "source": [
    "- Skip --> continue .\n",
    "\n",
    "- Stop --> break ."
   ]
  },
  {
   "cell_type": "code",
   "execution_count": 59,
   "id": "02aa1c61",
   "metadata": {},
   "outputs": [
    {
     "name": "stdout",
     "output_type": "stream",
     "text": [
      "0\n",
      "1\n",
      "2\n",
      "3\n",
      "4\n",
      "5\n"
     ]
    }
   ],
   "source": [
    "#example...\n",
    "for i in  range(10): \n",
    "    print(i)\n",
    "    if(i==5):#stop when i=5\n",
    "        break"
   ]
  },
  {
   "cell_type": "code",
   "execution_count": 60,
   "id": "9cf4ec84",
   "metadata": {},
   "outputs": [
    {
     "name": "stdout",
     "output_type": "stream",
     "text": [
      "0\n",
      "1\n",
      "2\n",
      "3\n",
      "4\n",
      "5\n",
      "6\n",
      "7\n",
      "8\n",
      "9\n"
     ]
    }
   ],
   "source": [
    "for i in  range(10):\n",
    "    print(i)\n",
    "    if(i==5):#skip when i=5\n",
    "        continue"
   ]
  },
  {
   "cell_type": "markdown",
   "id": "098f9334",
   "metadata": {},
   "source": [
    "# - Nested loop and condition.."
   ]
  },
  {
   "cell_type": "markdown",
   "id": "35291a40",
   "metadata": {},
   "source": [
    "**- Nested condition.**"
   ]
  },
  {
   "cell_type": "code",
   "execution_count": 61,
   "id": "ea1a8722",
   "metadata": {},
   "outputs": [
    {
     "name": "stdout",
     "output_type": "stream",
     "text": [
      "4\n",
      "from else(even)\n"
     ]
    }
   ],
   "source": [
    "#Nested condition..\n",
    "\n",
    "x=int(input())\n",
    "if x%2==0:\n",
    "    if x==2:# --> nested condition\n",
    "        print(2)\n",
    "    else:\n",
    "        print('from else(even)')\n",
    "else:\n",
    "    print('odd')"
   ]
  },
  {
   "cell_type": "markdown",
   "id": "9abe2252",
   "metadata": {},
   "source": [
    "**- Nested loop.**"
   ]
  },
  {
   "attachments": {
    "%E2%80%8F%D9%84%D9%82%D8%B7%D8%A9%20%D8%A7%D9%84%D8%B4%D8%A7%D8%B4%D8%A9%20%D9%A2%D9%A0%D9%A2%D9%A3-%D9%A0%D9%A6-%D9%A2%D9%A0%20%D9%81%D9%8A%20%D9%A1.%D9%A5%D9%A7.%D9%A1%D9%A5%C2%A0%D8%B5.png": {
     "image/png": "[encoded data removed]"
    }
   },
   "cell_type": "markdown",
   "id": "170240cc",
   "metadata": {},
   "source": [
    "![%E2%80%8F%D9%84%D9%82%D8%B7%D8%A9%20%D8%A7%D9%84%D8%B4%D8%A7%D8%B4%D8%A9%20%D9%A2%D9%A0%D9%A2%D9%A3-%D9%A0%D9%A6-%D9%A2%D9%A0%20%D9%81%D9%8A%20%D9%A1.%D9%A5%D9%A7.%D9%A1%D9%A5%C2%A0%D8%B5.png](attachment:%E2%80%8F%D9%84%D9%82%D8%B7%D8%A9%20%D8%A7%D9%84%D8%B4%D8%A7%D8%B4%D8%A9%20%D9%A2%D9%A0%D9%A2%D9%A3-%D9%A0%D9%A6-%D9%A2%D9%A0%20%D9%81%D9%8A%20%D9%A1.%D9%A5%D9%A7.%D9%A1%D9%A5%C2%A0%D8%B5.png)"
   ]
  },
  {
   "cell_type": "code",
   "execution_count": 62,
   "id": "7b7311a2",
   "metadata": {},
   "outputs": [
    {
     "name": "stdout",
     "output_type": "stream",
     "text": [
      "0\n",
      "0\n",
      "0\n",
      "2\n",
      "0\n",
      "2\n",
      "0\n",
      "2\n",
      "4\n",
      "0\n",
      "2\n",
      "4\n",
      "0\n",
      "2\n",
      "4\n",
      "6\n",
      "0\n",
      "2\n",
      "4\n",
      "6\n",
      "0\n",
      "2\n",
      "4\n",
      "6\n",
      "8\n"
     ]
    }
   ],
   "source": [
    "#Nested loop..\n",
    "\n",
    "for i in range(10):\n",
    "    for j in range(i):\n",
    "        if(j%2==0):\n",
    "            print(j)"
   ]
  },
  {
   "cell_type": "code",
   "execution_count": 63,
   "id": "e30e2fd2",
   "metadata": {},
   "outputs": [
    {
     "name": "stdout",
     "output_type": "stream",
     "text": [
      "25\n"
     ]
    }
   ],
   "source": [
    "count=0\n",
    "for i in range(10):\n",
    "    for j in range(i):\n",
    "        if(j%2==0):\n",
    "            count+=1\n",
    "print(count)"
   ]
  },
  {
   "cell_type": "code",
   "execution_count": 64,
   "id": "6fec3301",
   "metadata": {},
   "outputs": [
    {
     "name": "stdout",
     "output_type": "stream",
     "text": [
      "hello\n",
      "hello\n",
      "hello\n",
      "hello\n",
      "hello\n",
      "hello\n",
      "hello\n",
      "hello\n",
      "hello\n",
      "hello\n",
      "hello\n",
      "hello\n",
      "hello\n",
      "hello\n",
      "hello\n",
      "hello\n",
      "hello\n",
      "hello\n",
      "hello\n",
      "hello\n",
      "hello\n",
      "hello\n",
      "hello\n",
      "hello\n",
      "hello\n",
      "hello\n",
      "hello\n",
      "hello\n",
      "hello\n",
      "hello\n",
      "hello\n",
      "hello\n",
      "hello\n",
      "hello\n",
      "hello\n",
      "hello\n",
      "hello\n",
      "hello\n",
      "hello\n",
      "hello\n",
      "hello\n",
      "hello\n",
      "hello\n",
      "hello\n",
      "hello\n",
      "hello\n",
      "hello\n",
      "hello\n",
      "hello\n",
      "hello\n"
     ]
    }
   ],
   "source": [
    "for i in range(10):\n",
    "    for j in range(5):\n",
    "        print('hello')\n",
    "        \n",
    "# this statement is excuted 10*5= 50 times"
   ]
  },
  {
   "cell_type": "code",
   "execution_count": 65,
   "id": "7768cd36",
   "metadata": {},
   "outputs": [
    {
     "name": "stdout",
     "output_type": "stream",
     "text": [
      "1\n",
      "3\n",
      "5\n",
      "7\n",
      "9\n",
      "1\n",
      "3\n",
      "5\n",
      "7\n",
      "9\n",
      "1\n",
      "3\n",
      "5\n",
      "7\n",
      "1\n",
      "3\n",
      "5\n",
      "7\n",
      "1\n",
      "3\n",
      "5\n",
      "1\n",
      "3\n",
      "5\n",
      "1\n",
      "3\n",
      "1\n",
      "3\n",
      "1\n",
      "1\n"
     ]
    }
   ],
   "source": [
    "count=11\n",
    "while(count>0):\n",
    "    for i in range(count):\n",
    "        if i%2==1:\n",
    "            print(i)\n",
    "    count-=1"
   ]
  },
  {
   "cell_type": "code",
   "execution_count": null,
   "id": "a1473ad5",
   "metadata": {},
   "outputs": [],
   "source": []
  }
 ],
 "metadata": {
  "kernelspec": {
   "display_name": "Python 3 (ipykernel)",
   "language": "python",
   "name": "python3"
  },
  "language_info": {
   "codemirror_mode": {
    "name": "ipython",
    "version": 3
   },
   "file_extension": ".py",
   "mimetype": "text/x-python",
   "name": "python",
   "nbconvert_exporter": "python",
   "pygments_lexer": "ipython3",
   "version": "3.9.13"
  }
 },
 "nbformat": 4,
 "nbformat_minor": 5
}
